{
 "cells": [
  {
   "cell_type": "markdown",
   "metadata": {},
   "source": [
    "## Fraude Detection "
   ]
  },
  {
   "cell_type": "markdown",
   "metadata": {},
   "source": [
    "\n",
    "The aim of this project is to identify the fraudulent credit card transactions. For the credit card companies is important to recognize the fraud cases, so that the customers are not charged for items that they did not purchase.\n",
    "\n",
    "The dataset used for this project contains transactions made by credit cards in September 2013 by european cardholders.\n",
    "\n",
    "This dataset presents transactions that occurred in two days, where we have 492 frauds out of 284,807 transactions. The dataset is highly unbalanced, **the positive class (frauds) account for 0.172% of all transactions.**\n",
    "\n",
    "\n",
    "It contains only numerical input variables which are the result of a PCA transformation. Unfortunately, due to confidentiality issues, it's not possible to have the original features and more background information about the data. \n",
    "\n",
    "- Features V1, V2, … V28 are the principal components obtained with PCA, \n",
    "- the only features which have not been transformed with PCA are 'Time' and 'Amount'. Feature 'Time' contains the seconds elapsed between each transaction and the first transaction in the dataset. \n",
    "- The feature 'Amount' is the transaction Amount, this feature can be used for example-dependant cost-senstive learning.\n",
    "- Feature 'Class' is the response variable and it takes value 1 in case of fraud and 0 otherwise.\n",
    "\n",
    "**Link for the Dataset** : https://www.kaggle.com/mlg-ulb/creditcardfraud\n",
    "\n",
    "\n",
    "**Model** : we will use the Random Forest and will compare different technique for the unbalanced data\n",
    "- Random Forest with Unbalanced Data\n",
    "- Random Forest with Oversampling technique using SMOTE\n",
    "- Random Forest with Balanced Data\n",
    "- Random  with Class Weight adjusted manually\n",
    "\n",
    "Finally we will compare the result of the Random Forest with another classifier wich is the Logistic Regression\n",
    "\n",
    "**Evaluation metric:**\n",
    "Due to the high imbalanced data 0.172% positive class (fraud cases), the accuracy ratio is is not meaningful.\n",
    "\n",
    "The metric used for this project :\n",
    "- Recall, precision, F1\n",
    "- ROC AUC \n",
    "- Confusion matrix\n",
    "\n",
    "These metric will be analyzed for the train and validation database. \n",
    "As for the Fradulent case modelling the best model will be the one that have the best Recall and a low rate of valid transaction considered as Fradulent(False Positive) \n",
    "\n"
   ]
  },
  {
   "cell_type": "markdown",
   "metadata": {},
   "source": [
    "## Package"
   ]
  },
  {
   "cell_type": "code",
   "execution_count": 1,
   "metadata": {},
   "outputs": [],
   "source": [
    "import pandas as pd\n",
    "import matplotlib.pyplot as plt\n",
    "from matplotlib.patches import Rectangle\n",
    "import numpy as np\n",
    "import tensorflow.keras\n",
    "import csv\n",
    "from pathlib import Path\n",
    "\n",
    "from sklearn.ensemble import RandomForestClassifier\n",
    "from sklearn.linear_model import LogisticRegression\n",
    "from sklearn.model_selection import train_test_split, GridSearchCV\n",
    "from sklearn.metrics import r2_score, classification_report, confusion_matrix, roc_auc_score, roc_curve, precision_recall_curve, average_precision_score\n",
    "from sklearn.metrics import recall_score,accuracy_score,f1_score,plot_roc_curve\n",
    "from sklearn.model_selection import train_test_split\n",
    "\n",
    "from sklearn.preprocessing import StandardScaler\n",
    "import seaborn as sns\n",
    "from imblearn.over_sampling import SMOTE\n",
    "from itertools import product\n",
    "# Plotting options\n",
    "%matplotlib inline\n",
    "\n",
    "np.set_printoptions(precision=3)\n",
    "\n",
    "sns.set(style='whitegrid')\n",
    "from time import time\n",
    "from util_gridsearch import *\n",
    "\n",
    "import warnings\n",
    "warnings.filterwarnings('ignore')\n",
    "warnings.simplefilter('ignore')"
   ]
  },
  {
   "cell_type": "markdown",
   "metadata": {},
   "source": [
    "## Preparing the DataBase"
   ]
  },
  {
   "cell_type": "code",
   "execution_count": 2,
   "metadata": {},
   "outputs": [],
   "source": [
    "#read the file\n",
    "df = pd.read_csv('Data/creditcard.csv')"
   ]
  },
  {
   "cell_type": "code",
   "execution_count": 3,
   "metadata": {},
   "outputs": [
    {
     "name": "stdout",
     "output_type": "stream",
     "text": [
      "The number of case in the database :  284807\n",
      "The number of columns in the database :  31\n"
     ]
    }
   ],
   "source": [
    "print(\"The number of case in the database : \", df.shape[0])\n",
    "print(\"The number of columns in the database : \", df.shape[1])"
   ]
  },
  {
   "cell_type": "code",
   "execution_count": 4,
   "metadata": {},
   "outputs": [
    {
     "name": "stdout",
     "output_type": "stream",
     "text": [
      "The number of non-fraudulent cases :  284315\n",
      "The number of the fraudulent cases :  492\n"
     ]
    }
   ],
   "source": [
    "occ=df['Class'].value_counts()\n",
    "occ\n",
    "print(\"The number of non-fraudulent cases : \", occ[0])\n",
    "print(\"The number of the fraudulent cases : \", occ[1])"
   ]
  },
  {
   "cell_type": "code",
   "execution_count": 5,
   "metadata": {},
   "outputs": [
    {
     "name": "stdout",
     "output_type": "stream",
     "text": [
      "Ratio of fraudulent cases: 0.001727485630620034\n",
      "Ratio of non-fraudulent cases: 0.9982725143693799\n"
     ]
    }
   ],
   "source": [
    "# Print the ratio of fraud cases\n",
    "ratio_cases = occ/len(df.index)\n",
    "print(f'Ratio of fraudulent cases: {ratio_cases[1]}\\nRatio of non-fraudulent cases: {ratio_cases[0]}')"
   ]
  },
  {
   "cell_type": "code",
   "execution_count": 6,
   "metadata": {},
   "outputs": [
    {
     "data": {
      "text/plain": [
       "False"
      ]
     },
     "execution_count": 6,
     "metadata": {},
     "output_type": "execute_result"
    }
   ],
   "source": [
    "#Check missing values\n",
    "df.isnull().any().any()"
   ]
  },
  {
   "cell_type": "code",
   "execution_count": 7,
   "metadata": {},
   "outputs": [
    {
     "data": {
      "text/html": [
       "<div>\n",
       "<style scoped>\n",
       "    .dataframe tbody tr th:only-of-type {\n",
       "        vertical-align: middle;\n",
       "    }\n",
       "\n",
       "    .dataframe tbody tr th {\n",
       "        vertical-align: top;\n",
       "    }\n",
       "\n",
       "    .dataframe thead th {\n",
       "        text-align: right;\n",
       "    }\n",
       "</style>\n",
       "<table border=\"1\" class=\"dataframe\">\n",
       "  <thead>\n",
       "    <tr style=\"text-align: right;\">\n",
       "      <th></th>\n",
       "      <th>Time</th>\n",
       "      <th>V1</th>\n",
       "      <th>V2</th>\n",
       "      <th>V3</th>\n",
       "      <th>V4</th>\n",
       "      <th>V5</th>\n",
       "      <th>V6</th>\n",
       "      <th>V7</th>\n",
       "      <th>V8</th>\n",
       "      <th>V9</th>\n",
       "      <th>...</th>\n",
       "      <th>V21</th>\n",
       "      <th>V22</th>\n",
       "      <th>V23</th>\n",
       "      <th>V24</th>\n",
       "      <th>V25</th>\n",
       "      <th>V26</th>\n",
       "      <th>V27</th>\n",
       "      <th>V28</th>\n",
       "      <th>Amount</th>\n",
       "      <th>Class</th>\n",
       "    </tr>\n",
       "  </thead>\n",
       "  <tbody>\n",
       "    <tr>\n",
       "      <th>count</th>\n",
       "      <td>284807.000000</td>\n",
       "      <td>2.848070e+05</td>\n",
       "      <td>2.848070e+05</td>\n",
       "      <td>2.848070e+05</td>\n",
       "      <td>2.848070e+05</td>\n",
       "      <td>2.848070e+05</td>\n",
       "      <td>2.848070e+05</td>\n",
       "      <td>2.848070e+05</td>\n",
       "      <td>2.848070e+05</td>\n",
       "      <td>2.848070e+05</td>\n",
       "      <td>...</td>\n",
       "      <td>2.848070e+05</td>\n",
       "      <td>2.848070e+05</td>\n",
       "      <td>2.848070e+05</td>\n",
       "      <td>2.848070e+05</td>\n",
       "      <td>2.848070e+05</td>\n",
       "      <td>2.848070e+05</td>\n",
       "      <td>2.848070e+05</td>\n",
       "      <td>2.848070e+05</td>\n",
       "      <td>284807.000000</td>\n",
       "      <td>284807.000000</td>\n",
       "    </tr>\n",
       "    <tr>\n",
       "      <th>mean</th>\n",
       "      <td>94813.859575</td>\n",
       "      <td>3.919560e-15</td>\n",
       "      <td>5.688174e-16</td>\n",
       "      <td>-8.769071e-15</td>\n",
       "      <td>2.782312e-15</td>\n",
       "      <td>-1.552563e-15</td>\n",
       "      <td>2.010663e-15</td>\n",
       "      <td>-1.694249e-15</td>\n",
       "      <td>-1.927028e-16</td>\n",
       "      <td>-3.137024e-15</td>\n",
       "      <td>...</td>\n",
       "      <td>1.537294e-16</td>\n",
       "      <td>7.959909e-16</td>\n",
       "      <td>5.367590e-16</td>\n",
       "      <td>4.458112e-15</td>\n",
       "      <td>1.453003e-15</td>\n",
       "      <td>1.699104e-15</td>\n",
       "      <td>-3.660161e-16</td>\n",
       "      <td>-1.206049e-16</td>\n",
       "      <td>88.349619</td>\n",
       "      <td>0.001727</td>\n",
       "    </tr>\n",
       "    <tr>\n",
       "      <th>std</th>\n",
       "      <td>47488.145955</td>\n",
       "      <td>1.958696e+00</td>\n",
       "      <td>1.651309e+00</td>\n",
       "      <td>1.516255e+00</td>\n",
       "      <td>1.415869e+00</td>\n",
       "      <td>1.380247e+00</td>\n",
       "      <td>1.332271e+00</td>\n",
       "      <td>1.237094e+00</td>\n",
       "      <td>1.194353e+00</td>\n",
       "      <td>1.098632e+00</td>\n",
       "      <td>...</td>\n",
       "      <td>7.345240e-01</td>\n",
       "      <td>7.257016e-01</td>\n",
       "      <td>6.244603e-01</td>\n",
       "      <td>6.056471e-01</td>\n",
       "      <td>5.212781e-01</td>\n",
       "      <td>4.822270e-01</td>\n",
       "      <td>4.036325e-01</td>\n",
       "      <td>3.300833e-01</td>\n",
       "      <td>250.120109</td>\n",
       "      <td>0.041527</td>\n",
       "    </tr>\n",
       "    <tr>\n",
       "      <th>min</th>\n",
       "      <td>0.000000</td>\n",
       "      <td>-5.640751e+01</td>\n",
       "      <td>-7.271573e+01</td>\n",
       "      <td>-4.832559e+01</td>\n",
       "      <td>-5.683171e+00</td>\n",
       "      <td>-1.137433e+02</td>\n",
       "      <td>-2.616051e+01</td>\n",
       "      <td>-4.355724e+01</td>\n",
       "      <td>-7.321672e+01</td>\n",
       "      <td>-1.343407e+01</td>\n",
       "      <td>...</td>\n",
       "      <td>-3.483038e+01</td>\n",
       "      <td>-1.093314e+01</td>\n",
       "      <td>-4.480774e+01</td>\n",
       "      <td>-2.836627e+00</td>\n",
       "      <td>-1.029540e+01</td>\n",
       "      <td>-2.604551e+00</td>\n",
       "      <td>-2.256568e+01</td>\n",
       "      <td>-1.543008e+01</td>\n",
       "      <td>0.000000</td>\n",
       "      <td>0.000000</td>\n",
       "    </tr>\n",
       "    <tr>\n",
       "      <th>25%</th>\n",
       "      <td>54201.500000</td>\n",
       "      <td>-9.203734e-01</td>\n",
       "      <td>-5.985499e-01</td>\n",
       "      <td>-8.903648e-01</td>\n",
       "      <td>-8.486401e-01</td>\n",
       "      <td>-6.915971e-01</td>\n",
       "      <td>-7.682956e-01</td>\n",
       "      <td>-5.540759e-01</td>\n",
       "      <td>-2.086297e-01</td>\n",
       "      <td>-6.430976e-01</td>\n",
       "      <td>...</td>\n",
       "      <td>-2.283949e-01</td>\n",
       "      <td>-5.423504e-01</td>\n",
       "      <td>-1.618463e-01</td>\n",
       "      <td>-3.545861e-01</td>\n",
       "      <td>-3.171451e-01</td>\n",
       "      <td>-3.269839e-01</td>\n",
       "      <td>-7.083953e-02</td>\n",
       "      <td>-5.295979e-02</td>\n",
       "      <td>5.600000</td>\n",
       "      <td>0.000000</td>\n",
       "    </tr>\n",
       "    <tr>\n",
       "      <th>50%</th>\n",
       "      <td>84692.000000</td>\n",
       "      <td>1.810880e-02</td>\n",
       "      <td>6.548556e-02</td>\n",
       "      <td>1.798463e-01</td>\n",
       "      <td>-1.984653e-02</td>\n",
       "      <td>-5.433583e-02</td>\n",
       "      <td>-2.741871e-01</td>\n",
       "      <td>4.010308e-02</td>\n",
       "      <td>2.235804e-02</td>\n",
       "      <td>-5.142873e-02</td>\n",
       "      <td>...</td>\n",
       "      <td>-2.945017e-02</td>\n",
       "      <td>6.781943e-03</td>\n",
       "      <td>-1.119293e-02</td>\n",
       "      <td>4.097606e-02</td>\n",
       "      <td>1.659350e-02</td>\n",
       "      <td>-5.213911e-02</td>\n",
       "      <td>1.342146e-03</td>\n",
       "      <td>1.124383e-02</td>\n",
       "      <td>22.000000</td>\n",
       "      <td>0.000000</td>\n",
       "    </tr>\n",
       "    <tr>\n",
       "      <th>75%</th>\n",
       "      <td>139320.500000</td>\n",
       "      <td>1.315642e+00</td>\n",
       "      <td>8.037239e-01</td>\n",
       "      <td>1.027196e+00</td>\n",
       "      <td>7.433413e-01</td>\n",
       "      <td>6.119264e-01</td>\n",
       "      <td>3.985649e-01</td>\n",
       "      <td>5.704361e-01</td>\n",
       "      <td>3.273459e-01</td>\n",
       "      <td>5.971390e-01</td>\n",
       "      <td>...</td>\n",
       "      <td>1.863772e-01</td>\n",
       "      <td>5.285536e-01</td>\n",
       "      <td>1.476421e-01</td>\n",
       "      <td>4.395266e-01</td>\n",
       "      <td>3.507156e-01</td>\n",
       "      <td>2.409522e-01</td>\n",
       "      <td>9.104512e-02</td>\n",
       "      <td>7.827995e-02</td>\n",
       "      <td>77.165000</td>\n",
       "      <td>0.000000</td>\n",
       "    </tr>\n",
       "    <tr>\n",
       "      <th>max</th>\n",
       "      <td>172792.000000</td>\n",
       "      <td>2.454930e+00</td>\n",
       "      <td>2.205773e+01</td>\n",
       "      <td>9.382558e+00</td>\n",
       "      <td>1.687534e+01</td>\n",
       "      <td>3.480167e+01</td>\n",
       "      <td>7.330163e+01</td>\n",
       "      <td>1.205895e+02</td>\n",
       "      <td>2.000721e+01</td>\n",
       "      <td>1.559499e+01</td>\n",
       "      <td>...</td>\n",
       "      <td>2.720284e+01</td>\n",
       "      <td>1.050309e+01</td>\n",
       "      <td>2.252841e+01</td>\n",
       "      <td>4.584549e+00</td>\n",
       "      <td>7.519589e+00</td>\n",
       "      <td>3.517346e+00</td>\n",
       "      <td>3.161220e+01</td>\n",
       "      <td>3.384781e+01</td>\n",
       "      <td>25691.160000</td>\n",
       "      <td>1.000000</td>\n",
       "    </tr>\n",
       "  </tbody>\n",
       "</table>\n",
       "<p>8 rows × 31 columns</p>\n",
       "</div>"
      ],
      "text/plain": [
       "                Time            V1            V2            V3            V4  \\\n",
       "count  284807.000000  2.848070e+05  2.848070e+05  2.848070e+05  2.848070e+05   \n",
       "mean    94813.859575  3.919560e-15  5.688174e-16 -8.769071e-15  2.782312e-15   \n",
       "std     47488.145955  1.958696e+00  1.651309e+00  1.516255e+00  1.415869e+00   \n",
       "min         0.000000 -5.640751e+01 -7.271573e+01 -4.832559e+01 -5.683171e+00   \n",
       "25%     54201.500000 -9.203734e-01 -5.985499e-01 -8.903648e-01 -8.486401e-01   \n",
       "50%     84692.000000  1.810880e-02  6.548556e-02  1.798463e-01 -1.984653e-02   \n",
       "75%    139320.500000  1.315642e+00  8.037239e-01  1.027196e+00  7.433413e-01   \n",
       "max    172792.000000  2.454930e+00  2.205773e+01  9.382558e+00  1.687534e+01   \n",
       "\n",
       "                 V5            V6            V7            V8            V9  \\\n",
       "count  2.848070e+05  2.848070e+05  2.848070e+05  2.848070e+05  2.848070e+05   \n",
       "mean  -1.552563e-15  2.010663e-15 -1.694249e-15 -1.927028e-16 -3.137024e-15   \n",
       "std    1.380247e+00  1.332271e+00  1.237094e+00  1.194353e+00  1.098632e+00   \n",
       "min   -1.137433e+02 -2.616051e+01 -4.355724e+01 -7.321672e+01 -1.343407e+01   \n",
       "25%   -6.915971e-01 -7.682956e-01 -5.540759e-01 -2.086297e-01 -6.430976e-01   \n",
       "50%   -5.433583e-02 -2.741871e-01  4.010308e-02  2.235804e-02 -5.142873e-02   \n",
       "75%    6.119264e-01  3.985649e-01  5.704361e-01  3.273459e-01  5.971390e-01   \n",
       "max    3.480167e+01  7.330163e+01  1.205895e+02  2.000721e+01  1.559499e+01   \n",
       "\n",
       "       ...           V21           V22           V23           V24  \\\n",
       "count  ...  2.848070e+05  2.848070e+05  2.848070e+05  2.848070e+05   \n",
       "mean   ...  1.537294e-16  7.959909e-16  5.367590e-16  4.458112e-15   \n",
       "std    ...  7.345240e-01  7.257016e-01  6.244603e-01  6.056471e-01   \n",
       "min    ... -3.483038e+01 -1.093314e+01 -4.480774e+01 -2.836627e+00   \n",
       "25%    ... -2.283949e-01 -5.423504e-01 -1.618463e-01 -3.545861e-01   \n",
       "50%    ... -2.945017e-02  6.781943e-03 -1.119293e-02  4.097606e-02   \n",
       "75%    ...  1.863772e-01  5.285536e-01  1.476421e-01  4.395266e-01   \n",
       "max    ...  2.720284e+01  1.050309e+01  2.252841e+01  4.584549e+00   \n",
       "\n",
       "                V25           V26           V27           V28         Amount  \\\n",
       "count  2.848070e+05  2.848070e+05  2.848070e+05  2.848070e+05  284807.000000   \n",
       "mean   1.453003e-15  1.699104e-15 -3.660161e-16 -1.206049e-16      88.349619   \n",
       "std    5.212781e-01  4.822270e-01  4.036325e-01  3.300833e-01     250.120109   \n",
       "min   -1.029540e+01 -2.604551e+00 -2.256568e+01 -1.543008e+01       0.000000   \n",
       "25%   -3.171451e-01 -3.269839e-01 -7.083953e-02 -5.295979e-02       5.600000   \n",
       "50%    1.659350e-02 -5.213911e-02  1.342146e-03  1.124383e-02      22.000000   \n",
       "75%    3.507156e-01  2.409522e-01  9.104512e-02  7.827995e-02      77.165000   \n",
       "max    7.519589e+00  3.517346e+00  3.161220e+01  3.384781e+01   25691.160000   \n",
       "\n",
       "               Class  \n",
       "count  284807.000000  \n",
       "mean        0.001727  \n",
       "std         0.041527  \n",
       "min         0.000000  \n",
       "25%         0.000000  \n",
       "50%         0.000000  \n",
       "75%         0.000000  \n",
       "max         1.000000  \n",
       "\n",
       "[8 rows x 31 columns]"
      ]
     },
     "execution_count": 7,
     "metadata": {},
     "output_type": "execute_result"
    }
   ],
   "source": [
    "#Print of the diffrent statistics\n",
    "df.describe()"
   ]
  },
  {
   "cell_type": "code",
   "execution_count": 8,
   "metadata": {},
   "outputs": [
    {
     "name": "stdout",
     "output_type": "stream",
     "text": [
      "Fraudulent cases - the details amount\n",
      "--------------------------------------\n"
     ]
    },
    {
     "data": {
      "text/plain": [
       "count     492.000000\n",
       "mean      122.211321\n",
       "std       256.683288\n",
       "min         0.000000\n",
       "25%         1.000000\n",
       "50%         9.250000\n",
       "75%       105.890000\n",
       "max      2125.870000\n",
       "Name: Amount, dtype: float64"
      ]
     },
     "execution_count": 8,
     "metadata": {},
     "output_type": "execute_result"
    }
   ],
   "source": [
    "Fraud = df[df['Class'] == 1]\n",
    "Valid = df[df['Class'] == 0]\n",
    "\n",
    "print(\"Fraudulent cases - the details amount\")\n",
    "print(\"--------------------------------------\")\n",
    "Fraud.Amount.describe()\n"
   ]
  },
  {
   "cell_type": "code",
   "execution_count": 9,
   "metadata": {},
   "outputs": [
    {
     "name": "stdout",
     "output_type": "stream",
     "text": [
      "The non-fraudulent cases - the details amount\n",
      "----------------------------------------------\n"
     ]
    },
    {
     "data": {
      "text/plain": [
       "count    284315.000000\n",
       "mean         88.291022\n",
       "std         250.105092\n",
       "min           0.000000\n",
       "25%           5.650000\n",
       "50%          22.000000\n",
       "75%          77.050000\n",
       "max       25691.160000\n",
       "Name: Amount, dtype: float64"
      ]
     },
     "execution_count": 9,
     "metadata": {},
     "output_type": "execute_result"
    }
   ],
   "source": [
    "print(\"The non-fraudulent cases - the details amount\")\n",
    "print(\"----------------------------------------------\")\n",
    "Valid.Amount.describe()"
   ]
  },
  {
   "cell_type": "code",
   "execution_count": 10,
   "metadata": {},
   "outputs": [],
   "source": [
    "#Convert time in hours\n",
    "df.loc[:,'Time'] = df.Time / 3600"
   ]
  },
  {
   "cell_type": "code",
   "execution_count": 11,
   "metadata": {},
   "outputs": [],
   "source": [
    "#Normalization of the amount\n",
    "df.Amount = StandardScaler().fit_transform(df.Amount.values.reshape(-1, 1))"
   ]
  },
  {
   "cell_type": "code",
   "execution_count": 12,
   "metadata": {},
   "outputs": [
    {
     "data": {
      "image/png": "[encoded data removed]",
      "text/plain": [
       "<Figure size 1080x288 with 1 Axes>"
      ]
     },
     "metadata": {},
     "output_type": "display_data"
    }
   ],
   "source": [
    "# Distribution of the Time Variable\n",
    "sns.set(rc={'figure.figsize': (15, 15)})\n",
    "plt.figure(figsize=(15,4))\n",
    "fig = sns.distplot(df['Time'], kde=True, color=\"blue\")\n",
    "plt.xlim([0,48])\n",
    "plt.title(\"Time after the first transaction (in hour)\",fontsize=20)\n",
    "plt.show()"
   ]
  },
  {
   "cell_type": "code",
   "execution_count": 13,
   "metadata": {},
   "outputs": [
    {
     "data": {
      "image/png": "[encoded data removed]",
      "text/plain": [
       "<Figure size 1440x360 with 2 Axes>"
      ]
     },
     "metadata": {},
     "output_type": "display_data"
    }
   ],
   "source": [
    "# Time vs Amount in Fraud Cases\n",
    "\n",
    "sns.set(rc={'figure.figsize': (20, 5)})\n",
    "plt.subplot(1,2,1)\n",
    "#plt.figure(figsize=(10,10))\n",
    "fig = plt.scatter(x=df[df['Class'] == 1]['Time'], y=df[df['Class'] == 1]['Amount'], color=\"#7a9eaf\")\n",
    "plt.xlabel('Time after first transaction', fontsize=15)\n",
    "plt.ylabel('Amount', fontsize=15)\n",
    "plt.title(\"Time vs Amount for Fraudulent Cases\",fontsize=15)\n",
    "plt.xlim([0,48])\n",
    "plt.subplot(1,2,2)\n",
    "#plt.figure(figsize=(10,5))\n",
    "fig = plt.scatter(x=df[df['Class'] == 0]['Time'], y=df[df['Class'] == 0]['Amount'], color=\"#7a9eaf\")\n",
    "plt.xlabel('Time after first transaction', fontsize=15)\n",
    "plt.ylabel('Amount', fontsize=15)\n",
    "plt.title(\"Time vs Amount for Non Fraudulent Cases\",fontsize=15)\n",
    "plt.xlim([0,48])\n",
    "plt.show()"
   ]
  },
  {
   "cell_type": "code",
   "execution_count": 14,
   "metadata": {},
   "outputs": [],
   "source": [
    "def prep_data(df: pd.DataFrame) -> (np.ndarray, np.ndarray):\n",
    "    #\"\"\"\n",
    " #\"\"\"\"   Convert the DataFrame into two variable\n",
    " #   X: data columns (V1 - V28)\n",
    "  #  y: lable column\n",
    "  # \"\" \"\"\"\n",
    "    X = df.iloc[:, 2:30].values\n",
    "    y = df.Class.values\n",
    "    return X, y"
   ]
  },
  {
   "cell_type": "code",
   "execution_count": 15,
   "metadata": {},
   "outputs": [],
   "source": [
    "# Define a function to create a scatter plot of our data and labels\n",
    "def plot_data(X: np.ndarray, y: np.ndarray):\n",
    "    plt.scatter(X[y == 0, 2], X[y == 0, 23], label=\"Non Fraud\", alpha=0.5, linewidth=0.15)\n",
    "    plt.scatter(X[y == 1, 2], X[y == 1, 23], label=\"Fraud\", alpha=0.5, linewidth=0.15, c='r')\n",
    "    plt.legend()\n",
    "    return plt.show()"
   ]
  },
  {
   "cell_type": "code",
   "execution_count": 16,
   "metadata": {},
   "outputs": [],
   "source": [
    "# Create X and y from the prep_data function \n",
    "X, y = prep_data(df)"
   ]
  },
  {
   "cell_type": "code",
   "execution_count": 17,
   "metadata": {},
   "outputs": [
    {
     "data": {
      "image/png": "[encoded data removed]",
      "text/plain": [
       "<Figure size 720x360 with 1 Axes>"
      ]
     },
     "metadata": {},
     "output_type": "display_data"
    }
   ],
   "source": [
    "# Plot our data by running our plot data function on X and y\n",
    "sns.set(rc={'figure.figsize': (10, 5)})\n",
    "plot_data(X, y)"
   ]
  },
  {
   "cell_type": "markdown",
   "metadata": {},
   "source": [
    "**By visualizing the data, you can immediately see how our fraud cases are scattered over our data, and how few cases we have.**"
   ]
  },
  {
   "cell_type": "code",
   "execution_count": 18,
   "metadata": {},
   "outputs": [],
   "source": [
    "# we exclude Class\n",
    "X = df.iloc[:,:-1]\n",
    "y = df.Class"
   ]
  },
  {
   "cell_type": "code",
   "execution_count": 19,
   "metadata": {},
   "outputs": [
    {
     "data": {
      "text/html": [
       "<div>\n",
       "<style scoped>\n",
       "    .dataframe tbody tr th:only-of-type {\n",
       "        vertical-align: middle;\n",
       "    }\n",
       "\n",
       "    .dataframe tbody tr th {\n",
       "        vertical-align: top;\n",
       "    }\n",
       "\n",
       "    .dataframe thead th {\n",
       "        text-align: right;\n",
       "    }\n",
       "</style>\n",
       "<table border=\"1\" class=\"dataframe\">\n",
       "  <thead>\n",
       "    <tr style=\"text-align: right;\">\n",
       "      <th></th>\n",
       "      <th>Time</th>\n",
       "      <th>V1</th>\n",
       "      <th>V2</th>\n",
       "      <th>V3</th>\n",
       "      <th>V4</th>\n",
       "      <th>V5</th>\n",
       "      <th>V6</th>\n",
       "      <th>V7</th>\n",
       "      <th>V8</th>\n",
       "      <th>V9</th>\n",
       "      <th>...</th>\n",
       "      <th>V20</th>\n",
       "      <th>V21</th>\n",
       "      <th>V22</th>\n",
       "      <th>V23</th>\n",
       "      <th>V24</th>\n",
       "      <th>V25</th>\n",
       "      <th>V26</th>\n",
       "      <th>V27</th>\n",
       "      <th>V28</th>\n",
       "      <th>Amount</th>\n",
       "    </tr>\n",
       "  </thead>\n",
       "  <tbody>\n",
       "    <tr>\n",
       "      <th>0</th>\n",
       "      <td>0.0</td>\n",
       "      <td>-1.359807</td>\n",
       "      <td>-0.072781</td>\n",
       "      <td>2.536347</td>\n",
       "      <td>1.378155</td>\n",
       "      <td>-0.338321</td>\n",
       "      <td>0.462388</td>\n",
       "      <td>0.239599</td>\n",
       "      <td>0.098698</td>\n",
       "      <td>0.363787</td>\n",
       "      <td>...</td>\n",
       "      <td>0.251412</td>\n",
       "      <td>-0.018307</td>\n",
       "      <td>0.277838</td>\n",
       "      <td>-0.110474</td>\n",
       "      <td>0.066928</td>\n",
       "      <td>0.128539</td>\n",
       "      <td>-0.189115</td>\n",
       "      <td>0.133558</td>\n",
       "      <td>-0.021053</td>\n",
       "      <td>0.244964</td>\n",
       "    </tr>\n",
       "    <tr>\n",
       "      <th>1</th>\n",
       "      <td>0.0</td>\n",
       "      <td>1.191857</td>\n",
       "      <td>0.266151</td>\n",
       "      <td>0.166480</td>\n",
       "      <td>0.448154</td>\n",
       "      <td>0.060018</td>\n",
       "      <td>-0.082361</td>\n",
       "      <td>-0.078803</td>\n",
       "      <td>0.085102</td>\n",
       "      <td>-0.255425</td>\n",
       "      <td>...</td>\n",
       "      <td>-0.069083</td>\n",
       "      <td>-0.225775</td>\n",
       "      <td>-0.638672</td>\n",
       "      <td>0.101288</td>\n",
       "      <td>-0.339846</td>\n",
       "      <td>0.167170</td>\n",
       "      <td>0.125895</td>\n",
       "      <td>-0.008983</td>\n",
       "      <td>0.014724</td>\n",
       "      <td>-0.342475</td>\n",
       "    </tr>\n",
       "  </tbody>\n",
       "</table>\n",
       "<p>2 rows × 30 columns</p>\n",
       "</div>"
      ],
      "text/plain": [
       "   Time        V1        V2        V3        V4        V5        V6        V7  \\\n",
       "0   0.0 -1.359807 -0.072781  2.536347  1.378155 -0.338321  0.462388  0.239599   \n",
       "1   0.0  1.191857  0.266151  0.166480  0.448154  0.060018 -0.082361 -0.078803   \n",
       "\n",
       "         V8        V9  ...       V20       V21       V22       V23       V24  \\\n",
       "0  0.098698  0.363787  ...  0.251412 -0.018307  0.277838 -0.110474  0.066928   \n",
       "1  0.085102 -0.255425  ... -0.069083 -0.225775 -0.638672  0.101288 -0.339846   \n",
       "\n",
       "        V25       V26       V27       V28    Amount  \n",
       "0  0.128539 -0.189115  0.133558 -0.021053  0.244964  \n",
       "1  0.167170  0.125895 -0.008983  0.014724 -0.342475  \n",
       "\n",
       "[2 rows x 30 columns]"
      ]
     },
     "execution_count": 19,
     "metadata": {},
     "output_type": "execute_result"
    }
   ],
   "source": [
    "X.head(2)"
   ]
  },
  {
   "cell_type": "code",
   "execution_count": 20,
   "metadata": {},
   "outputs": [
    {
     "data": {
      "text/plain": [
       "0    0\n",
       "1    0\n",
       "Name: Class, dtype: int64"
      ]
     },
     "execution_count": 20,
     "metadata": {},
     "output_type": "execute_result"
    }
   ],
   "source": [
    "y.head(2)"
   ]
  },
  {
   "cell_type": "markdown",
   "metadata": {},
   "source": [
    "## Split of the data"
   ]
  },
  {
   "cell_type": "code",
   "execution_count": 21,
   "metadata": {},
   "outputs": [],
   "source": [
    "# Split of the data : 20% for the test set and 80% for the training set\n",
    "X_train, X_test, y_train, y_test = train_test_split(X, y,test_size=0.2, random_state=0)"
   ]
  },
  {
   "cell_type": "markdown",
   "metadata": {},
   "source": [
    "## DummyClassifier\n",
    "DummyClassifier is a classifier that makes predictions using simple rules, which can be useful as a baseline for comparison against actual classifiers, especially with imbalanced classes."
   ]
  },
  {
   "cell_type": "code",
   "execution_count": 22,
   "metadata": {},
   "outputs": [
    {
     "name": "stdout",
     "output_type": "stream",
     "text": [
      "The Accuracy for the Dummy Classifier 0.9982:\n",
      "The recall for the Dummy Classifier  0.0000:\n"
     ]
    }
   ],
   "source": [
    "from sklearn.dummy import DummyClassifier\n",
    "from sklearn.metrics import recall_score,accuracy_score\n",
    "    \n",
    "dummy_majority = DummyClassifier(strategy = 'most_frequent').fit(X_train, y_train)\n",
    "y_dummy_predictions = dummy_majority.predict(X_test)\n",
    "accuracy_dummy=accuracy_score(y_test, y_dummy_predictions)\n",
    "recall_dummy=recall_score(y_test, y_dummy_predictions)\n",
    "\n",
    "print('The Accuracy for the Dummy Classifier %0.4f:'% accuracy_dummy)\n",
    "print('The recall for the Dummy Classifier  %0.4f:'% recall_dummy)"
   ]
  },
  {
   "cell_type": "markdown",
   "metadata": {},
   "source": [
    "**The accuracy ratio** is not meaningful for this case of high unbalanced data"
   ]
  },
  {
   "cell_type": "markdown",
   "metadata": {},
   "source": [
    "## Random Forest "
   ]
  },
  {
   "cell_type": "markdown",
   "metadata": {},
   "source": [
    "**The Random Forest Key parameters :**\n",
    "- n_estimators: number of trees to use in ensemble (default: 10), should be larger for large Dataset\n",
    "- max_features: has a strong effect on performance. Influences the diversity of trees in the forest.\n",
    "- max_depth: controls the depth of each tree (default: None. Splits until all leaves are pure).\n",
    "\n",
    "\n",
    "The random forest takes much longer to train on this fairly large dataset, so we don't actually do a hyperparameter grid search, only specifiying the key parameters(n_estimators, max_features,max_depth). We'll leave the grid search implemented in case we decide to try different hyperparameter values in the future.\n",
    "\n",
    "We will use this parametres :\n",
    "max_depth=6,max_features='auto', n_estimators=100,random_state=0,\n",
    "\n",
    "\n",
    "- Random Forest with Unbalanced Data\n",
    "- Random Forest with Oversampling technique using SMOTE\n",
    "- Random Forest with Balanced Data\n",
    "- Random  with adjusted Class Weight"
   ]
  },
  {
   "cell_type": "markdown",
   "metadata": {},
   "source": [
    "## 1- Random Forest - Unbalanced Data"
   ]
  },
  {
   "cell_type": "code",
   "execution_count": 23,
   "metadata": {},
   "outputs": [
    {
     "name": "stdout",
     "output_type": "stream",
     "text": [
      "\u001b[107mModel : RF_UnBalanced\u001b[0m\n",
      "-------------------------------------------------------\n",
      "Accuracy: 0.999\n",
      "Precision: 0.911\n",
      "Recall: 0.713\n",
      "F1: 0.800\n",
      "The ROC Score = 0.975 \n",
      "\n",
      "Classification Report - Test set:\n",
      "-----------------------------------------\n",
      "              precision    recall  f1-score   support\n",
      "\n",
      "   Non Fraud       1.00      1.00      1.00     56861\n",
      "       Fraud       0.91      0.71      0.80       101\n",
      "\n",
      "    accuracy                           1.00     56962\n",
      "   macro avg       0.96      0.86      0.90     56962\n",
      "weighted avg       1.00      1.00      1.00     56962\n",
      "\n",
      "\n",
      "Confusion Matrix in number - Test set:\n",
      "-----------------------------------------\n",
      "[[56854     7]\n",
      " [   29    72]]\n",
      "\n",
      "Normalized Confusion Matrix -Test set :\n",
      "-----------------------------------------\n",
      "[[ 0.99988  0.00012]\n",
      " [ 0.28713  0.71287]]\n",
      "\n",
      "Classification Report - Training set:\n",
      "-----------------------------------------\n",
      "              precision    recall  f1-score   support\n",
      "\n",
      "   Non Fraud       1.00      1.00      1.00    227454\n",
      "       Fraud       0.98      0.77      0.86       391\n",
      "\n",
      "    accuracy                           1.00    227845\n",
      "   macro avg       0.99      0.89      0.93    227845\n",
      "weighted avg       1.00      1.00      1.00    227845\n",
      "\n",
      "\n",
      "Confusion Matrix - Training set:\n",
      "-----------------------------------------\n",
      "[[227447      7]\n",
      " [    88    303]]\n",
      "\n",
      "Normalized Confusion Matrix - Training set:\n",
      "-----------------------------------------\n",
      "[[ 0.99997  0.00003]\n",
      " [ 0.22506  0.77494]]\n"
     ]
    }
   ],
   "source": [
    "RF_UnBalanced = RandomForestClassifier(max_depth=6,\n",
    "                               max_features='auto', \n",
    "                               n_estimators=100,\n",
    "                               n_jobs=-1,\n",
    "                               random_state=0)\n",
    "# Get results from your model\n",
    "dict_RF_UNbalanced=get_model_results(X_train, y_train, X_test, y_test, RF_UnBalanced,model_name='RF_UnBalanced')"
   ]
  },
  {
   "cell_type": "code",
   "execution_count": 24,
   "metadata": {},
   "outputs": [
    {
     "data": {
      "text/plain": [
       "Text(0.5, 1.0, 'ROC Curve- Random Forest UnBalanced')"
      ]
     },
     "execution_count": 24,
     "metadata": {},
     "output_type": "execute_result"
    },
    {
     "data": {
      "image/png": "[encoded data removed]",
      "text/plain": [
       "<Figure size 720x360 with 1 Axes>"
      ]
     },
     "metadata": {},
     "output_type": "display_data"
    }
   ],
   "source": [
    "plot_roc_curve(RF_UnBalanced, X_test, y_test)\n",
    "plt.title(\"ROC Curve- Random Forest UnBalanced\",fontsize=15)"
   ]
  },
  {
   "cell_type": "markdown",
   "metadata": {},
   "source": [
    "**Comments**\n",
    "\n",
    "\n",
    "- For the test set, only 7 regular transactions are wrongly predicted as fraudulent, the model detects 71% of the fraudulent transactions. As a consequence 29 fraudulent transactions are not detected (False Negatives).\n",
    "\n",
    "- Let's see if we can improve this performance using Oversampling technique using SMOTE"
   ]
  },
  {
   "cell_type": "markdown",
   "metadata": {},
   "source": [
    "## 2- Random Forest - Oversampling technique using SMOTE\n",
    "(Synthetic Minority Oversample TEchnique)\n",
    "- The alternative to down-sampling is the upsampling of the minority class to the same level as the dominant one.\n",
    "- This can be achieved with the SMOTE method where a new vector is generated between 2 existing datapoints. Applying this technique allows to massively increase the number of fraudulent transactions"
   ]
  },
  {
   "cell_type": "code",
   "execution_count": 25,
   "metadata": {},
   "outputs": [],
   "source": [
    "X_resample, y_resample = SMOTE().fit_resample(X_train,y_train.values.ravel())"
   ]
  },
  {
   "cell_type": "code",
   "execution_count": 26,
   "metadata": {},
   "outputs": [
    {
     "name": "stdout",
     "output_type": "stream",
     "text": [
      "Number of total transactions before SMOTE upsampling:  284807 ...after SMOTE upsampling:  454908\n",
      "Number of fraudulent transactions before SMOTE upsampling:  391 ...after SMOTE upsampling:  227454\n"
     ]
    }
   ],
   "source": [
    "print('Number of total transactions before SMOTE upsampling: ', len(y), '...after SMOTE upsampling: ', len(y_resample))\n",
    "print('Number of fraudulent transactions before SMOTE upsampling: ', len(y_train[y_train==1]), \n",
    "      '...after SMOTE upsampling: ', np.sum(y_resample[y_resample==1]))"
   ]
  },
  {
   "cell_type": "code",
   "execution_count": 27,
   "metadata": {},
   "outputs": [
    {
     "name": "stdout",
     "output_type": "stream",
     "text": [
      "\u001b[107mModel : RF_Smote\u001b[0m\n",
      "-------------------------------------------------------\n",
      "Accuracy: 0.997\n",
      "Precision: 0.404\n",
      "Recall: 0.871\n",
      "F1: 0.552\n",
      "The ROC Score = 0.983 \n",
      "\n",
      "Classification Report - Test set:\n",
      "-----------------------------------------\n",
      "              precision    recall  f1-score   support\n",
      "\n",
      "   Non Fraud       1.00      1.00      1.00     56861\n",
      "       Fraud       0.40      0.87      0.55       101\n",
      "\n",
      "    accuracy                           1.00     56962\n",
      "   macro avg       0.70      0.93      0.78     56962\n",
      "weighted avg       1.00      1.00      1.00     56962\n",
      "\n",
      "\n",
      "Confusion Matrix in number - Test set:\n",
      "-----------------------------------------\n",
      "[[56731   130]\n",
      " [   13    88]]\n",
      "\n",
      "Normalized Confusion Matrix -Test set :\n",
      "-----------------------------------------\n",
      "[[ 0.99771  0.00229]\n",
      " [ 0.12871  0.87129]]\n",
      "\n",
      "Classification Report - Training set:\n",
      "-----------------------------------------\n",
      "              precision    recall  f1-score   support\n",
      "\n",
      "   Non Fraud       0.90      1.00      0.95    227454\n",
      "       Fraud       1.00      0.89      0.94    227454\n",
      "\n",
      "    accuracy                           0.95    454908\n",
      "   macro avg       0.95      0.95      0.95    454908\n",
      "weighted avg       0.95      0.95      0.95    454908\n",
      "\n",
      "\n",
      "Confusion Matrix - Training set:\n",
      "-----------------------------------------\n",
      "[[226867    587]\n",
      " [ 24265 203189]]\n",
      "\n",
      "Normalized Confusion Matrix - Training set:\n",
      "-----------------------------------------\n",
      "[[ 0.99742  0.00258]\n",
      " [ 0.10668  0.89332]]\n"
     ]
    }
   ],
   "source": [
    "RF_SMOTE = RandomForestClassifier(max_depth=6,\n",
    "                               max_features='auto', \n",
    "                               n_estimators=100,\n",
    "                               n_jobs=-1,\n",
    "                               random_state=0)\n",
    "# Get results from your model\n",
    "dict_RF_Smote=get_model_results(X_resample, y_resample, X_test, y_test, RF_SMOTE,model_name='RF_Smote')"
   ]
  },
  {
   "cell_type": "code",
   "execution_count": 28,
   "metadata": {},
   "outputs": [
    {
     "data": {
      "text/plain": [
       "Text(0.5, 1.0, 'ROC Curve- Random Forest SMOTE')"
      ]
     },
     "execution_count": 28,
     "metadata": {},
     "output_type": "execute_result"
    },
    {
     "data": {
      "image/png": "[encoded data removed]",
      "text/plain": [
       "<Figure size 720x360 with 1 Axes>"
      ]
     },
     "metadata": {},
     "output_type": "display_data"
    }
   ],
   "source": [
    "plot_roc_curve(RF_SMOTE, X_test, y_test)\n",
    "plt.title(\"ROC Curve- Random Forest SMOTE\",fontsize=15)"
   ]
  },
  {
   "cell_type": "markdown",
   "metadata": {},
   "source": [
    "**Comments**:\n",
    " * Using the Oversampling with Smote, we have 78% of the fradulent cases that are detected, but the number of false positive cases increases to 130 cases.\n"
   ]
  },
  {
   "cell_type": "markdown",
   "metadata": {},
   "source": [
    "## 3- Random Forest  - Balanced data"
   ]
  },
  {
   "cell_type": "code",
   "execution_count": 37,
   "metadata": {},
   "outputs": [
    {
     "name": "stdout",
     "output_type": "stream",
     "text": [
      "\u001b[107mModel : RF_Balanced\u001b[0m\n",
      "-------------------------------------------------------\n",
      "Accuracy: 0.999\n",
      "Precision: 0.677\n",
      "Recall: 0.851\n",
      "F1: 0.754\n",
      "The ROC Score = 0.985 \n",
      "\n",
      "Classification Report - Test set:\n",
      "-----------------------------------------\n",
      "              precision    recall  f1-score   support\n",
      "\n",
      "   Non Fraud       1.00      1.00      1.00     56861\n",
      "       Fraud       0.68      0.85      0.75       101\n",
      "\n",
      "    accuracy                           1.00     56962\n",
      "   macro avg       0.84      0.93      0.88     56962\n",
      "weighted avg       1.00      1.00      1.00     56962\n",
      "\n",
      "\n",
      "Confusion Matrix in number - Test set:\n",
      "-----------------------------------------\n",
      "[[56820    41]\n",
      " [   15    86]]\n",
      "\n",
      "Normalized Confusion Matrix -Test set :\n",
      "-----------------------------------------\n",
      "[[ 0.99928  0.00072]\n",
      " [ 0.14851  0.85149]]\n",
      "\n",
      "Classification Report - Training set:\n",
      "-----------------------------------------\n",
      "              precision    recall  f1-score   support\n",
      "\n",
      "   Non Fraud       1.00      1.00      1.00    227454\n",
      "       Fraud       0.69      0.91      0.79       391\n",
      "\n",
      "    accuracy                           1.00    227845\n",
      "   macro avg       0.85      0.95      0.89    227845\n",
      "weighted avg       1.00      1.00      1.00    227845\n",
      "\n",
      "\n",
      "Confusion Matrix - Training set:\n",
      "-----------------------------------------\n",
      "[[227298    156]\n",
      " [    36    355]]\n",
      "\n",
      "Normalized Confusion Matrix - Training set:\n",
      "-----------------------------------------\n",
      "[[ 0.99931  0.00069]\n",
      " [ 0.09207  0.90793]]\n"
     ]
    }
   ],
   "source": [
    "RF_Balanced = RandomForestClassifier(class_weight='balanced_subsample', \n",
    "                               max_depth=6,\n",
    "                               max_features='auto', \n",
    "                               n_estimators=100,\n",
    "                               n_jobs=-1,\n",
    "                               random_state=0)\n",
    "# Get results from your model\n",
    "dict_RF_Balanced=get_model_results(X_train, y_train, X_test, y_test, RF_Balanced,model_name='RF_Balanced')"
   ]
  },
  {
   "cell_type": "code",
   "execution_count": 38,
   "metadata": {},
   "outputs": [
    {
     "data": {
      "text/plain": [
       "Text(0.5, 1.0, 'ROC Curve- Random Forest Balanced')"
      ]
     },
     "execution_count": 38,
     "metadata": {},
     "output_type": "execute_result"
    },
    {
     "data": {
      "image/png": "[encoded data removed]",
      "text/plain": [
       "<Figure size 720x360 with 1 Axes>"
      ]
     },
     "metadata": {},
     "output_type": "display_data"
    }
   ],
   "source": [
    "plot_roc_curve(RF_Balanced, X_test, y_test)\n",
    "plt.title(\"ROC Curve- Random Forest Balanced\",fontsize=15)"
   ]
  },
  {
   "cell_type": "markdown",
   "metadata": {},
   "source": [
    "**Comments**\n",
    " \n",
    " * With Balanced data, the model detects 86% of the fraud case and reduce the number of false positive to 0.12%  \n",
    " \n"
   ]
  },
  {
   "cell_type": "markdown",
   "metadata": {},
   "source": [
    "## 3- Manual Adjusted weight (class_weight) :1:230\n",
    "the positive class is adjusted to 40% of the dataset"
   ]
  },
  {
   "cell_type": "code",
   "execution_count": 31,
   "metadata": {},
   "outputs": [
    {
     "name": "stdout",
     "output_type": "stream",
     "text": [
      "\u001b[107mModel : RF_ManualWeight\u001b[0m\n",
      "-------------------------------------------------------\n",
      "Accuracy: 0.999\n",
      "Precision: 0.796\n",
      "Recall: 0.851\n",
      "F1: 0.823\n",
      "The ROC Score = 0.985 \n",
      "\n",
      "Classification Report - Test set:\n",
      "-----------------------------------------\n",
      "              precision    recall  f1-score   support\n",
      "\n",
      "   Non Fraud       1.00      1.00      1.00     56861\n",
      "       Fraud       0.80      0.85      0.82       101\n",
      "\n",
      "    accuracy                           1.00     56962\n",
      "   macro avg       0.90      0.93      0.91     56962\n",
      "weighted avg       1.00      1.00      1.00     56962\n",
      "\n",
      "\n",
      "Confusion Matrix in number - Test set:\n",
      "-----------------------------------------\n",
      "[[56839    22]\n",
      " [   15    86]]\n",
      "\n",
      "Normalized Confusion Matrix -Test set :\n",
      "-----------------------------------------\n",
      "[[ 0.99961  0.00039]\n",
      " [ 0.14851  0.85149]]\n",
      "\n",
      "Classification Report - Training set:\n",
      "-----------------------------------------\n",
      "              precision    recall  f1-score   support\n",
      "\n",
      "   Non Fraud       1.00      1.00      1.00    227454\n",
      "       Fraud       0.77      0.88      0.82       391\n",
      "\n",
      "    accuracy                           1.00    227845\n",
      "   macro avg       0.89      0.94      0.91    227845\n",
      "weighted avg       1.00      1.00      1.00    227845\n",
      "\n",
      "\n",
      "Confusion Matrix - Training set:\n",
      "-----------------------------------------\n",
      "[[227354    100]\n",
      " [    47    344]]\n",
      "\n",
      "Normalized Confusion Matrix - Training set:\n",
      "-----------------------------------------\n",
      "[[ 0.99956  0.00044]\n",
      " [ 0.12020  0.87980]]\n"
     ]
    }
   ],
   "source": [
    "RF_ManualWeight = RandomForestClassifier(class_weight={0: 1, 1: 230}, \n",
    "                               max_depth=6,\n",
    "                               max_features='auto', \n",
    "                               n_estimators=100,\n",
    "                               n_jobs=-1,\n",
    "                               random_state=0)\n",
    "# Get results from your model\n",
    "dict_RF_ManualWeight=get_model_results(X_train, y_train, X_test, y_test,RF_ManualWeight,model_name='RF_ManualWeight')"
   ]
  },
  {
   "cell_type": "code",
   "execution_count": 32,
   "metadata": {},
   "outputs": [
    {
     "data": {
      "text/plain": [
       "Text(0.5, 1.0, 'ROC Curve- RandomForest Manual Weight Adjusted')"
      ]
     },
     "execution_count": 32,
     "metadata": {},
     "output_type": "execute_result"
    },
    {
     "data": {
      "image/png": "[encoded data removed]",
      "text/plain": [
       "<Figure size 720x360 with 1 Axes>"
      ]
     },
     "metadata": {},
     "output_type": "display_data"
    }
   ],
   "source": [
    "ROC_RF_Weight = plot_roc_curve(RF_ManualWeight, X_test, y_test)\n",
    "plt.title(\"ROC Curve- RandomForest Manual Weight Adjusted\",fontsize=15)"
   ]
  },
  {
   "cell_type": "markdown",
   "metadata": {},
   "source": [
    "**Comments**\n",
    " \n",
    " * Only 14% of Fradulent cases were not detected, and the ratio of the false positive is 0.04%\n"
   ]
  },
  {
   "cell_type": "markdown",
   "metadata": {},
   "source": [
    "## 4- LogisticRegression - Balanced data\n",
    "\n",
    "Let's try the Logistic Regression with Default parameters and Class_weight='balanced'"
   ]
  },
  {
   "cell_type": "code",
   "execution_count": 34,
   "metadata": {},
   "outputs": [
    {
     "name": "stdout",
     "output_type": "stream",
     "text": [
      "\u001b[107mModel : LR_Balanced\u001b[0m\n",
      "-------------------------------------------------------\n",
      "Accuracy: 0.977\n",
      "Precision: 0.067\n",
      "Recall: 0.941\n",
      "F1: 0.126\n",
      "The ROC Score = 0.986 \n",
      "\n",
      "Classification Report - Test set:\n",
      "-----------------------------------------\n",
      "              precision    recall  f1-score   support\n",
      "\n",
      "   Non Fraud       1.00      0.98      0.99     56861\n",
      "       Fraud       0.07      0.94      0.13       101\n",
      "\n",
      "    accuracy                           0.98     56962\n",
      "   macro avg       0.53      0.96      0.56     56962\n",
      "weighted avg       1.00      0.98      0.99     56962\n",
      "\n",
      "\n",
      "Confusion Matrix in number - Test set:\n",
      "-----------------------------------------\n",
      "[[55548  1313]\n",
      " [    6    95]]\n",
      "\n",
      "Normalized Confusion Matrix -Test set :\n",
      "-----------------------------------------\n",
      "[[ 0.97691  0.02309]\n",
      " [ 0.05941  0.94059]]\n",
      "\n",
      "Classification Report - Training set:\n",
      "-----------------------------------------\n",
      "              precision    recall  f1-score   support\n",
      "\n",
      "   Non Fraud       1.00      0.98      0.99    227454\n",
      "       Fraud       0.06      0.91      0.12       391\n",
      "\n",
      "    accuracy                           0.98    227845\n",
      "   macro avg       0.53      0.94      0.55    227845\n",
      "weighted avg       1.00      0.98      0.99    227845\n",
      "\n",
      "\n",
      "Confusion Matrix - Training set:\n",
      "-----------------------------------------\n",
      "[[222151   5303]\n",
      " [    35    356]]\n",
      "\n",
      "Normalized Confusion Matrix - Training set:\n",
      "-----------------------------------------\n",
      "[[ 0.97669  0.02331]\n",
      " [ 0.08951  0.91049]]\n"
     ]
    }
   ],
   "source": [
    "model_LR = LogisticRegression(class_weight='balanced',random_state=0)\n",
    "dict_LR_Balanced=get_model_results(X_train, y_train, X_test, y_test, model_LR,model_name='LR_Balanced')"
   ]
  },
  {
   "cell_type": "code",
   "execution_count": 35,
   "metadata": {},
   "outputs": [
    {
     "data": {
      "text/plain": [
       "Text(0.5, 1.0, 'ROC Curve- Logistic Regression Balanced')"
      ]
     },
     "execution_count": 35,
     "metadata": {},
     "output_type": "execute_result"
    },
    {
     "data": {
      "image/png": "[encoded data removed]",
      "text/plain": [
       "<Figure size 720x360 with 1 Axes>"
      ]
     },
     "metadata": {},
     "output_type": "display_data"
    }
   ],
   "source": [
    "plot_roc_curve(model_LR, X_test, y_test)\n",
    "plt.title(\"ROC Curve- Logistic Regression Balanced\",fontsize=15)"
   ]
  },
  {
   "cell_type": "markdown",
   "metadata": {},
   "source": [
    "**Comments**\n",
    "\n",
    "The Logistic regression increases the number of the false positive 2.3% (1313) which is very high, given the high number of transactions, and detected 94% of fradulent case"
   ]
  },
  {
   "cell_type": "markdown",
   "metadata": {},
   "source": [
    "## 5- Conclusion "
   ]
  },
  {
   "cell_type": "code",
   "execution_count": 36,
   "metadata": {},
   "outputs": [
    {
     "data": {
      "text/html": [
       "<div>\n",
       "<style scoped>\n",
       "    .dataframe tbody tr th:only-of-type {\n",
       "        vertical-align: middle;\n",
       "    }\n",
       "\n",
       "    .dataframe tbody tr th {\n",
       "        vertical-align: top;\n",
       "    }\n",
       "\n",
       "    .dataframe thead th {\n",
       "        text-align: right;\n",
       "    }\n",
       "</style>\n",
       "<table border=\"1\" class=\"dataframe\">\n",
       "  <thead>\n",
       "    <tr style=\"text-align: right;\">\n",
       "      <th></th>\n",
       "      <th>Model</th>\n",
       "      <th>Recall</th>\n",
       "      <th>Precision</th>\n",
       "      <th>F1</th>\n",
       "      <th>FN_rate</th>\n",
       "      <th>FP_rate</th>\n",
       "      <th>AUCROC</th>\n",
       "    </tr>\n",
       "  </thead>\n",
       "  <tbody>\n",
       "    <tr>\n",
       "      <th>0</th>\n",
       "      <td>RF_UnBalanced</td>\n",
       "      <td>0.712871</td>\n",
       "      <td>0.911392</td>\n",
       "      <td>0.800000</td>\n",
       "      <td>28.712871</td>\n",
       "      <td>0.012311</td>\n",
       "      <td>0.974681</td>\n",
       "    </tr>\n",
       "    <tr>\n",
       "      <th>1</th>\n",
       "      <td>RF_Smote</td>\n",
       "      <td>0.871287</td>\n",
       "      <td>0.403670</td>\n",
       "      <td>0.551724</td>\n",
       "      <td>12.871287</td>\n",
       "      <td>0.228628</td>\n",
       "      <td>0.983320</td>\n",
       "    </tr>\n",
       "    <tr>\n",
       "      <th>2</th>\n",
       "      <td>RF_Balanced</td>\n",
       "      <td>0.861386</td>\n",
       "      <td>0.568627</td>\n",
       "      <td>0.685039</td>\n",
       "      <td>13.861386</td>\n",
       "      <td>0.116073</td>\n",
       "      <td>0.983518</td>\n",
       "    </tr>\n",
       "    <tr>\n",
       "      <th>3</th>\n",
       "      <td>RF_ManualWeight</td>\n",
       "      <td>0.851485</td>\n",
       "      <td>0.796296</td>\n",
       "      <td>0.822967</td>\n",
       "      <td>14.851485</td>\n",
       "      <td>0.038691</td>\n",
       "      <td>0.984797</td>\n",
       "    </tr>\n",
       "    <tr>\n",
       "      <th>4</th>\n",
       "      <td>LR_Balanced</td>\n",
       "      <td>0.940594</td>\n",
       "      <td>0.067472</td>\n",
       "      <td>0.125911</td>\n",
       "      <td>5.940594</td>\n",
       "      <td>2.309140</td>\n",
       "      <td>0.985850</td>\n",
       "    </tr>\n",
       "  </tbody>\n",
       "</table>\n",
       "</div>"
      ],
      "text/plain": [
       "             Model    Recall  Precision        F1    FN_rate   FP_rate  \\\n",
       "0    RF_UnBalanced  0.712871   0.911392  0.800000  28.712871  0.012311   \n",
       "1         RF_Smote  0.871287   0.403670  0.551724  12.871287  0.228628   \n",
       "2      RF_Balanced  0.861386   0.568627  0.685039  13.861386  0.116073   \n",
       "3  RF_ManualWeight  0.851485   0.796296  0.822967  14.851485  0.038691   \n",
       "4      LR_Balanced  0.940594   0.067472  0.125911   5.940594  2.309140   \n",
       "\n",
       "     AUCROC  \n",
       "0  0.974681  \n",
       "1  0.983320  \n",
       "2  0.983518  \n",
       "3  0.984797  \n",
       "4  0.985850  "
      ]
     },
     "execution_count": 36,
     "metadata": {},
     "output_type": "execute_result"
    }
   ],
   "source": [
    "#results in a DataFrame\n",
    "keys = dict_RF_UNbalanced.keys()\n",
    "d_merged = {k: [dict_RF_UNbalanced.get(k), dict_RF_Smote.get(k),\n",
    "                dict_RF_Balanced.get(k),dict_RF_ManualWeight.get(k),dict_LR_Balanced.get(k)] for k in keys}\n",
    "result=pd.DataFrame(d_merged)\n",
    "result"
   ]
  },
  {
   "cell_type": "markdown",
   "metadata": {},
   "source": [
    "**The Random Forest with unbalanced data** has the lowest Recall (71%) and 29% of the fradulent cases were not detected.\n",
    "\n",
    "**The Random Forest with Smote** gives a good Recall (87%) but a low precision that leads to high number of valid cases that are considered as fradulent.\n",
    "\n",
    "**The Random Forest with Balanced Data** has a Recall of 86% but a ratio of 0.11% the false positive.\n",
    "\n",
    "**The Random Forest with the class weight adjusted manually** (the fradulent case adjusted to 40% of the database), has a the highest F1 Score, good Recall and Precision, as consequence the ratio of the false positive is low 0.04%\n",
    "\n",
    "**The Logistic Regression with balanced data** is acheveing the best recall at 94%, but also the lowest precision, with 2.3% of False positive which is high given the high number of transcations.\n",
    "\n",
    "Finally the best approach is to use the Random Forest with the manual adjustement of the class weight, the Recall may be optimized with keeping a low level of false positive rate by using grid serach to find the best key parameters for the Random Forest(class weight, n_estimators,max_features)\n"
   ]
  }
 ],
 "metadata": {
  "kernelspec": {
   "display_name": "Python 3",
   "language": "python",
   "name": "python3"
  },
  "language_info": {
   "codemirror_mode": {
    "name": "ipython",
    "version": 3
   },
   "file_extension": ".py",
   "mimetype": "text/x-python",
   "name": "python",
   "nbconvert_exporter": "python",
   "pygments_lexer": "ipython3",
   "version": "3.7.3"
  }
 },
 "nbformat": 4,
 "nbformat_minor": 2
}
